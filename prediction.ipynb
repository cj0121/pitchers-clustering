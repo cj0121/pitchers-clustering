{
 "cells": [
  {
   "cell_type": "code",
   "execution_count": 1,
   "id": "c6fe2016",
   "metadata": {},
   "outputs": [
    {
     "data": {
      "application/javascript": [
       "if (!(\"Notification\" in window)) {\n",
       "    alert(\"This browser does not support desktop notifications, so the %%notify magic will not work.\");\n",
       "} else if (Notification.permission !== 'granted' && Notification.permission !== 'denied') {\n",
       "    Notification.requestPermission(function (permission) {\n",
       "        if(!('permission' in Notification)) {\n",
       "            Notification.permission = permission;\n",
       "        }\n",
       "    })\n",
       "}\n"
      ],
      "text/plain": [
       "<IPython.core.display.Javascript object>"
      ]
     },
     "metadata": {},
     "output_type": "display_data"
    }
   ],
   "source": [
    "%load_ext jupyternotify\n",
    "import pandas as pd\n",
    "import numpy as np\n",
    "\n",
    "import matplotlib.pyplot as plt\n",
    "import seaborn as sns\n",
    "\n",
    "\n",
    "pd.set_option('display.max_columns', None)"
   ]
  },
  {
   "cell_type": "code",
   "execution_count": 2,
   "id": "8c35fd57",
   "metadata": {},
   "outputs": [],
   "source": [
    "raw_19 = pd.read_csv('../data/PitchData_19.csv')\n",
    "raw_20 = pd.read_csv('../data/PitchData_20.csv')\n",
    "raw_21 = pd.read_csv('../data/PitchData_21.csv')"
   ]
  },
  {
   "cell_type": "code",
   "execution_count": 3,
   "id": "1414229b",
   "metadata": {},
   "outputs": [],
   "source": [
    "raw_all = pd.concat([raw_21, raw_20, raw_19], ignore_index=True)\n",
    "data = raw_all.copy()\n",
    "data.drop(columns=data.columns[0], inplace=True)"
   ]
  },
  {
   "cell_type": "code",
   "execution_count": 4,
   "id": "27f8423c",
   "metadata": {},
   "outputs": [],
   "source": [
    "data = data[data['game_type']=='R'].copy()"
   ]
  },
  {
   "cell_type": "code",
   "execution_count": 5,
   "id": "023f3306",
   "metadata": {},
   "outputs": [],
   "source": [
    "data_test_full = data[data['game_date']>='2021-09-01'].copy()\n",
    "data_train_full = data[data['game_date']<'2021-09-01'].copy()"
   ]
  },
  {
   "cell_type": "code",
   "execution_count": null,
   "id": "328ff36f",
   "metadata": {},
   "outputs": [],
   "source": []
  }
 ],
 "metadata": {
  "kernelspec": {
   "display_name": "Python 3 (ipykernel)",
   "language": "python",
   "name": "python3"
  },
  "language_info": {
   "codemirror_mode": {
    "name": "ipython",
    "version": 3
   },
   "file_extension": ".py",
   "mimetype": "text/x-python",
   "name": "python",
   "nbconvert_exporter": "python",
   "pygments_lexer": "ipython3",
   "version": "3.9.7"
  }
 },
 "nbformat": 4,
 "nbformat_minor": 5
}
