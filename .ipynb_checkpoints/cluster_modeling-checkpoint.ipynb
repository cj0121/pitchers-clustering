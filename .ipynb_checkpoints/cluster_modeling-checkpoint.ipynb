{
 "cells": [
  {
   "cell_type": "code",
   "execution_count": 1,
   "id": "99dd734b",
   "metadata": {},
   "outputs": [
    {
     "data": {
      "application/javascript": [
       "if (!(\"Notification\" in window)) {\n",
       "    alert(\"This browser does not support desktop notifications, so the %%notify magic will not work.\");\n",
       "} else if (Notification.permission !== 'granted' && Notification.permission !== 'denied') {\n",
       "    Notification.requestPermission(function (permission) {\n",
       "        if(!('permission' in Notification)) {\n",
       "            Notification.permission = permission;\n",
       "        }\n",
       "    })\n",
       "}\n"
      ],
      "text/plain": [
       "<IPython.core.display.Javascript object>"
      ]
     },
     "metadata": {},
     "output_type": "display_data"
    },
    {
     "name": "stdout",
     "output_type": "stream",
     "text": [
      "importing Jupyter notebook from functions.ipynb\n",
      "The jupyternotify extension is already loaded. To reload it, use:\n",
      "  %reload_ext jupyternotify\n"
     ]
    }
   ],
   "source": [
    "%load_ext jupyternotify\n",
    "import pandas as pd\n",
    "import numpy as np\n",
    "\n",
    "import matplotlib.pyplot as plt\n",
    "import seaborn as sns\n",
    "import timeit\n",
    "import import_ipynb\n",
    "\n",
    "from sklearn.model_selection import KFold\n",
    "from tqdm.auto import tqdm\n",
    "\n",
    "\n",
    "import functions as func\n",
    "\n",
    "pd.set_option('display.max_columns', None)"
   ]
  },
  {
   "cell_type": "code",
   "execution_count": 2,
   "id": "0bc430b7",
   "metadata": {},
   "outputs": [],
   "source": [
    "raw_data = pd.read_csv('../data/data_neutral.csv', index_col=[0])"
   ]
  },
  {
   "cell_type": "code",
   "execution_count": 3,
   "id": "8739f751",
   "metadata": {},
   "outputs": [],
   "source": [
    "data = raw_data.copy()"
   ]
  },
  {
   "cell_type": "code",
   "execution_count": 4,
   "id": "88daa8ab",
   "metadata": {
    "scrolled": true
   },
   "outputs": [
    {
     "data": {
      "text/html": [
       "<div>\n",
       "<style scoped>\n",
       "    .dataframe tbody tr th:only-of-type {\n",
       "        vertical-align: middle;\n",
       "    }\n",
       "\n",
       "    .dataframe tbody tr th {\n",
       "        vertical-align: top;\n",
       "    }\n",
       "\n",
       "    .dataframe thead th {\n",
       "        text-align: right;\n",
       "    }\n",
       "</style>\n",
       "<table border=\"1\" class=\"dataframe\">\n",
       "  <thead>\n",
       "    <tr style=\"text-align: right;\">\n",
       "      <th></th>\n",
       "      <th>pitcher</th>\n",
       "      <th>player_name</th>\n",
       "      <th>throws_right</th>\n",
       "      <th>release_pos_x</th>\n",
       "      <th>release_pos_z</th>\n",
       "      <th>fastball_2pct</th>\n",
       "      <th>breaking_2pct</th>\n",
       "      <th>off_speed_2pct</th>\n",
       "      <th>launch_speed</th>\n",
       "      <th>solid_rate</th>\n",
       "      <th>GB_rate</th>\n",
       "      <th>LD_rate</th>\n",
       "      <th>FB_rate</th>\n",
       "      <th>PU_rate</th>\n",
       "      <th>whiff_rate</th>\n",
       "      <th>OSwing_pct</th>\n",
       "      <th>K_9</th>\n",
       "      <th>hit_9</th>\n",
       "      <th>BB_9</th>\n",
       "      <th>HR_9</th>\n",
       "      <th>release_speed_breaking</th>\n",
       "      <th>release_speed_fastball</th>\n",
       "      <th>release_speed_off_speed</th>\n",
       "      <th>pfx_x_breaking</th>\n",
       "      <th>pfx_x_fastball</th>\n",
       "      <th>pfx_x_off_speed</th>\n",
       "      <th>pfx_z_breaking</th>\n",
       "      <th>pfx_z_fastball</th>\n",
       "      <th>pfx_z_off_speed</th>\n",
       "      <th>release_spin_rate_breaking</th>\n",
       "      <th>release_spin_rate_fastball</th>\n",
       "      <th>release_spin_rate_off_speed</th>\n",
       "      <th>spin_axis_fastball</th>\n",
       "      <th>spin_axis_off_speed</th>\n",
       "    </tr>\n",
       "  </thead>\n",
       "  <tbody>\n",
       "    <tr>\n",
       "      <th>0</th>\n",
       "      <td>282332</td>\n",
       "      <td>Sabathia, CC</td>\n",
       "      <td>0</td>\n",
       "      <td>-2.315865</td>\n",
       "      <td>5.899743</td>\n",
       "      <td>0.596050</td>\n",
       "      <td>0.277678</td>\n",
       "      <td>0.126272</td>\n",
       "      <td>86.436909</td>\n",
       "      <td>0.135647</td>\n",
       "      <td>0.419558</td>\n",
       "      <td>0.189274</td>\n",
       "      <td>0.318612</td>\n",
       "      <td>0.072555</td>\n",
       "      <td>0.227384</td>\n",
       "      <td>0.295455</td>\n",
       "      <td>9.000000</td>\n",
       "      <td>9.420561</td>\n",
       "      <td>3.532710</td>\n",
       "      <td>2.271028</td>\n",
       "      <td>79.214871</td>\n",
       "      <td>88.547490</td>\n",
       "      <td>82.674408</td>\n",
       "      <td>-0.905711</td>\n",
       "      <td>0.293876</td>\n",
       "      <td>0.735024</td>\n",
       "      <td>0.102931</td>\n",
       "      <td>0.830402</td>\n",
       "      <td>0.645924</td>\n",
       "      <td>2208.381466</td>\n",
       "      <td>2156.420683</td>\n",
       "      <td>1884.739336</td>\n",
       "      <td>194.813253</td>\n",
       "      <td>228.061611</td>\n",
       "    </tr>\n",
       "    <tr>\n",
       "      <th>1</th>\n",
       "      <td>407845</td>\n",
       "      <td>Rodney, Fernando</td>\n",
       "      <td>1</td>\n",
       "      <td>-2.164653</td>\n",
       "      <td>6.046254</td>\n",
       "      <td>0.679623</td>\n",
       "      <td>0.032980</td>\n",
       "      <td>0.287397</td>\n",
       "      <td>87.611628</td>\n",
       "      <td>0.116279</td>\n",
       "      <td>0.527132</td>\n",
       "      <td>0.217054</td>\n",
       "      <td>0.178295</td>\n",
       "      <td>0.077519</td>\n",
       "      <td>0.222222</td>\n",
       "      <td>0.306522</td>\n",
       "      <td>9.517986</td>\n",
       "      <td>9.323741</td>\n",
       "      <td>5.244604</td>\n",
       "      <td>0.971223</td>\n",
       "      <td>86.257143</td>\n",
       "      <td>93.801906</td>\n",
       "      <td>82.965164</td>\n",
       "      <td>0.189286</td>\n",
       "      <td>-0.923969</td>\n",
       "      <td>-1.259139</td>\n",
       "      <td>0.615357</td>\n",
       "      <td>1.166707</td>\n",
       "      <td>0.643811</td>\n",
       "      <td>2253.607143</td>\n",
       "      <td>2085.337955</td>\n",
       "      <td>1751.614754</td>\n",
       "      <td>218.008666</td>\n",
       "      <td>242.942623</td>\n",
       "    </tr>\n",
       "    <tr>\n",
       "      <th>2</th>\n",
       "      <td>425794</td>\n",
       "      <td>Wainwright, Adam</td>\n",
       "      <td>1</td>\n",
       "      <td>-1.339804</td>\n",
       "      <td>6.171098</td>\n",
       "      <td>0.599158</td>\n",
       "      <td>0.363931</td>\n",
       "      <td>0.036911</td>\n",
       "      <td>88.176289</td>\n",
       "      <td>0.123711</td>\n",
       "      <td>0.486254</td>\n",
       "      <td>0.231100</td>\n",
       "      <td>0.224227</td>\n",
       "      <td>0.056701</td>\n",
       "      <td>0.176648</td>\n",
       "      <td>0.264175</td>\n",
       "      <td>8.077686</td>\n",
       "      <td>8.256198</td>\n",
       "      <td>2.856198</td>\n",
       "      <td>1.071074</td>\n",
       "      <td>74.087055</td>\n",
       "      <td>87.814780</td>\n",
       "      <td>82.926754</td>\n",
       "      <td>1.451246</td>\n",
       "      <td>-0.325698</td>\n",
       "      <td>-1.164254</td>\n",
       "      <td>-1.119364</td>\n",
       "      <td>0.815742</td>\n",
       "      <td>0.648728</td>\n",
       "      <td>2792.212189</td>\n",
       "      <td>2263.033234</td>\n",
       "      <td>1733.600877</td>\n",
       "      <td>187.216428</td>\n",
       "      <td>228.030702</td>\n",
       "    </tr>\n",
       "    <tr>\n",
       "      <th>3</th>\n",
       "      <td>425844</td>\n",
       "      <td>Greinke, Zack</td>\n",
       "      <td>1</td>\n",
       "      <td>-1.269014</td>\n",
       "      <td>6.336909</td>\n",
       "      <td>0.461538</td>\n",
       "      <td>0.314077</td>\n",
       "      <td>0.224385</td>\n",
       "      <td>87.213761</td>\n",
       "      <td>0.125880</td>\n",
       "      <td>0.465989</td>\n",
       "      <td>0.231431</td>\n",
       "      <td>0.226740</td>\n",
       "      <td>0.071931</td>\n",
       "      <td>0.202007</td>\n",
       "      <td>0.303299</td>\n",
       "      <td>7.542594</td>\n",
       "      <td>8.164236</td>\n",
       "      <td>1.574827</td>\n",
       "      <td>1.077513</td>\n",
       "      <td>77.142191</td>\n",
       "      <td>89.339069</td>\n",
       "      <td>86.774393</td>\n",
       "      <td>0.794046</td>\n",
       "      <td>-0.230577</td>\n",
       "      <td>-1.056294</td>\n",
       "      <td>-0.363297</td>\n",
       "      <td>1.342422</td>\n",
       "      <td>0.347689</td>\n",
       "      <td>2421.696579</td>\n",
       "      <td>2284.299258</td>\n",
       "      <td>1692.246357</td>\n",
       "      <td>193.415655</td>\n",
       "      <td>238.265094</td>\n",
       "    </tr>\n",
       "    <tr>\n",
       "      <th>4</th>\n",
       "      <td>429719</td>\n",
       "      <td>Jackson, Edwin</td>\n",
       "      <td>1</td>\n",
       "      <td>-1.842316</td>\n",
       "      <td>5.938597</td>\n",
       "      <td>0.651074</td>\n",
       "      <td>0.273006</td>\n",
       "      <td>0.075920</td>\n",
       "      <td>90.920732</td>\n",
       "      <td>0.211382</td>\n",
       "      <td>0.434959</td>\n",
       "      <td>0.268293</td>\n",
       "      <td>0.215447</td>\n",
       "      <td>0.081301</td>\n",
       "      <td>0.205298</td>\n",
       "      <td>0.239658</td>\n",
       "      <td>6.916256</td>\n",
       "      <td>13.965517</td>\n",
       "      <td>4.655172</td>\n",
       "      <td>3.059113</td>\n",
       "      <td>84.938764</td>\n",
       "      <td>92.717197</td>\n",
       "      <td>86.971717</td>\n",
       "      <td>0.286489</td>\n",
       "      <td>-0.398363</td>\n",
       "      <td>-1.319394</td>\n",
       "      <td>0.051910</td>\n",
       "      <td>0.947727</td>\n",
       "      <td>1.055556</td>\n",
       "      <td>2321.207865</td>\n",
       "      <td>2264.943463</td>\n",
       "      <td>2221.454545</td>\n",
       "      <td>197.404005</td>\n",
       "      <td>231.161616</td>\n",
       "    </tr>\n",
       "  </tbody>\n",
       "</table>\n",
       "</div>"
      ],
      "text/plain": [
       "   pitcher       player_name  throws_right  release_pos_x  release_pos_z  \\\n",
       "0   282332      Sabathia, CC             0      -2.315865       5.899743   \n",
       "1   407845  Rodney, Fernando             1      -2.164653       6.046254   \n",
       "2   425794  Wainwright, Adam             1      -1.339804       6.171098   \n",
       "3   425844     Greinke, Zack             1      -1.269014       6.336909   \n",
       "4   429719    Jackson, Edwin             1      -1.842316       5.938597   \n",
       "\n",
       "   fastball_2pct  breaking_2pct  off_speed_2pct  launch_speed  solid_rate  \\\n",
       "0       0.596050       0.277678        0.126272     86.436909    0.135647   \n",
       "1       0.679623       0.032980        0.287397     87.611628    0.116279   \n",
       "2       0.599158       0.363931        0.036911     88.176289    0.123711   \n",
       "3       0.461538       0.314077        0.224385     87.213761    0.125880   \n",
       "4       0.651074       0.273006        0.075920     90.920732    0.211382   \n",
       "\n",
       "    GB_rate   LD_rate   FB_rate   PU_rate  whiff_rate  OSwing_pct       K_9  \\\n",
       "0  0.419558  0.189274  0.318612  0.072555    0.227384    0.295455  9.000000   \n",
       "1  0.527132  0.217054  0.178295  0.077519    0.222222    0.306522  9.517986   \n",
       "2  0.486254  0.231100  0.224227  0.056701    0.176648    0.264175  8.077686   \n",
       "3  0.465989  0.231431  0.226740  0.071931    0.202007    0.303299  7.542594   \n",
       "4  0.434959  0.268293  0.215447  0.081301    0.205298    0.239658  6.916256   \n",
       "\n",
       "       hit_9      BB_9      HR_9  release_speed_breaking  \\\n",
       "0   9.420561  3.532710  2.271028               79.214871   \n",
       "1   9.323741  5.244604  0.971223               86.257143   \n",
       "2   8.256198  2.856198  1.071074               74.087055   \n",
       "3   8.164236  1.574827  1.077513               77.142191   \n",
       "4  13.965517  4.655172  3.059113               84.938764   \n",
       "\n",
       "   release_speed_fastball  release_speed_off_speed  pfx_x_breaking  \\\n",
       "0               88.547490                82.674408       -0.905711   \n",
       "1               93.801906                82.965164        0.189286   \n",
       "2               87.814780                82.926754        1.451246   \n",
       "3               89.339069                86.774393        0.794046   \n",
       "4               92.717197                86.971717        0.286489   \n",
       "\n",
       "   pfx_x_fastball  pfx_x_off_speed  pfx_z_breaking  pfx_z_fastball  \\\n",
       "0        0.293876         0.735024        0.102931        0.830402   \n",
       "1       -0.923969        -1.259139        0.615357        1.166707   \n",
       "2       -0.325698        -1.164254       -1.119364        0.815742   \n",
       "3       -0.230577        -1.056294       -0.363297        1.342422   \n",
       "4       -0.398363        -1.319394        0.051910        0.947727   \n",
       "\n",
       "   pfx_z_off_speed  release_spin_rate_breaking  release_spin_rate_fastball  \\\n",
       "0         0.645924                 2208.381466                 2156.420683   \n",
       "1         0.643811                 2253.607143                 2085.337955   \n",
       "2         0.648728                 2792.212189                 2263.033234   \n",
       "3         0.347689                 2421.696579                 2284.299258   \n",
       "4         1.055556                 2321.207865                 2264.943463   \n",
       "\n",
       "   release_spin_rate_off_speed  spin_axis_fastball  spin_axis_off_speed  \n",
       "0                  1884.739336          194.813253           228.061611  \n",
       "1                  1751.614754          218.008666           242.942623  \n",
       "2                  1733.600877          187.216428           228.030702  \n",
       "3                  1692.246357          193.415655           238.265094  \n",
       "4                  2221.454545          197.404005           231.161616  "
      ]
     },
     "execution_count": 4,
     "metadata": {},
     "output_type": "execute_result"
    }
   ],
   "source": [
    "data.head()"
   ]
  },
  {
   "cell_type": "markdown",
   "id": "97a93794",
   "metadata": {},
   "source": [
    "# 1. Initial Processing\n",
    "## 1.1 Preperation for Prediction Function"
   ]
  },
  {
   "cell_type": "code",
   "execution_count": 5,
   "id": "242cfdb5",
   "metadata": {},
   "outputs": [],
   "source": [
    "# create pitcher ID list\n",
    "cluster = data[data.columns[:1]].copy()"
   ]
  },
  {
   "cell_type": "markdown",
   "id": "e332f587",
   "metadata": {},
   "source": [
    "### New Batters/Pitchers List"
   ]
  },
  {
   "cell_type": "code",
   "execution_count": 6,
   "id": "b1b5870c",
   "metadata": {},
   "outputs": [],
   "source": [
    "data_RV = pd.read_csv('../data/data_RV.csv', index_col=[0])\n",
    "\n",
    "data_RV['PA_count'] = 1\n",
    "\n",
    "# seperate last month of 2021 as test data\n",
    "test_df = data_RV[data_RV['game_date']>='2021-09-01'].copy()\n",
    "train_full_df = data_RV[data_RV['game_date']<'2021-09-01'].copy()\n",
    "\n",
    "# create new batters/pitchers list\n",
    "pitchers_all = data_RV['pitcher'].unique()\n",
    "pitchers_old = cluster['pitcher'].to_list()\n",
    "pitchers_new = [p for p in pitchers_all if p not in pitchers_old]\n",
    "\n",
    "batters_new = train_full_df.groupby('batter').agg({'PA_count':sum}).reset_index()\n",
    "batters_new = batters_new[batters_new['PA_count']<100]['batter'].to_list()"
   ]
  },
  {
   "cell_type": "markdown",
   "id": "791ec927",
   "metadata": {},
   "source": [
    "## 1.2 Train/Val Split"
   ]
  },
  {
   "cell_type": "code",
   "execution_count": 7,
   "id": "d577a25a",
   "metadata": {},
   "outputs": [],
   "source": [
    "from sklearn.model_selection import train_test_split\n",
    "# 20/80 train/val split\n",
    "train_df, val_df = train_test_split(\n",
    "     train_full_df, test_size=0.2, random_state=0, shuffle=True)"
   ]
  },
  {
   "cell_type": "code",
   "execution_count": 8,
   "id": "1b044da0",
   "metadata": {},
   "outputs": [
    {
     "name": "stdout",
     "output_type": "stream",
     "text": [
      "Num train: 311453\n",
      "Num validation: 77864\n",
      "Num test: 32522\n"
     ]
    }
   ],
   "source": [
    "print(f\"Num train: {train_df.shape[0]}\")\n",
    "print(f\"Num validation: {val_df.shape[0]}\")\n",
    "print(f\"Num test: {test_df.shape[0]}\")"
   ]
  },
  {
   "cell_type": "markdown",
   "id": "30d2ab2f",
   "metadata": {},
   "source": [
    "## 1.3 Standard-scale data"
   ]
  },
  {
   "cell_type": "code",
   "execution_count": 9,
   "id": "650db265",
   "metadata": {},
   "outputs": [],
   "source": [
    "from sklearn.preprocessing import StandardScaler\n",
    "\n",
    "scaler = StandardScaler()"
   ]
  },
  {
   "cell_type": "code",
   "execution_count": 10,
   "id": "8fc8ab8f",
   "metadata": {},
   "outputs": [
    {
     "data": {
      "text/html": [
       "<div>\n",
       "<style scoped>\n",
       "    .dataframe tbody tr th:only-of-type {\n",
       "        vertical-align: middle;\n",
       "    }\n",
       "\n",
       "    .dataframe tbody tr th {\n",
       "        vertical-align: top;\n",
       "    }\n",
       "\n",
       "    .dataframe thead th {\n",
       "        text-align: right;\n",
       "    }\n",
       "</style>\n",
       "<table border=\"1\" class=\"dataframe\">\n",
       "  <thead>\n",
       "    <tr style=\"text-align: right;\">\n",
       "      <th></th>\n",
       "      <th>pitcher</th>\n",
       "      <th>player_name</th>\n",
       "      <th>throws_right</th>\n",
       "      <th>release_pos_x</th>\n",
       "      <th>release_pos_z</th>\n",
       "      <th>fastball_2pct</th>\n",
       "      <th>breaking_2pct</th>\n",
       "      <th>off_speed_2pct</th>\n",
       "      <th>launch_speed</th>\n",
       "      <th>solid_rate</th>\n",
       "      <th>GB_rate</th>\n",
       "      <th>LD_rate</th>\n",
       "      <th>FB_rate</th>\n",
       "      <th>PU_rate</th>\n",
       "      <th>whiff_rate</th>\n",
       "      <th>OSwing_pct</th>\n",
       "      <th>K_9</th>\n",
       "      <th>hit_9</th>\n",
       "      <th>BB_9</th>\n",
       "      <th>HR_9</th>\n",
       "      <th>release_speed_breaking</th>\n",
       "      <th>release_speed_fastball</th>\n",
       "      <th>release_speed_off_speed</th>\n",
       "      <th>pfx_x_breaking</th>\n",
       "      <th>pfx_x_fastball</th>\n",
       "      <th>pfx_x_off_speed</th>\n",
       "      <th>pfx_z_breaking</th>\n",
       "      <th>pfx_z_fastball</th>\n",
       "      <th>pfx_z_off_speed</th>\n",
       "      <th>release_spin_rate_breaking</th>\n",
       "      <th>release_spin_rate_fastball</th>\n",
       "      <th>release_spin_rate_off_speed</th>\n",
       "      <th>spin_axis_fastball</th>\n",
       "      <th>spin_axis_off_speed</th>\n",
       "    </tr>\n",
       "  </thead>\n",
       "  <tbody>\n",
       "    <tr>\n",
       "      <th>0</th>\n",
       "      <td>282332</td>\n",
       "      <td>Sabathia, CC</td>\n",
       "      <td>0</td>\n",
       "      <td>-0.547886</td>\n",
       "      <td>0.107543</td>\n",
       "      <td>0.109660</td>\n",
       "      <td>-0.049288</td>\n",
       "      <td>-0.055396</td>\n",
       "      <td>-1.212597</td>\n",
       "      <td>-0.123259</td>\n",
       "      <td>-0.360197</td>\n",
       "      <td>-0.891727</td>\n",
       "      <td>1.707820</td>\n",
       "      <td>-0.540799</td>\n",
       "      <td>0.088381</td>\n",
       "      <td>0.663420</td>\n",
       "      <td>0.090509</td>\n",
       "      <td>0.413008</td>\n",
       "      <td>-0.364793</td>\n",
       "      <td>1.587126</td>\n",
       "      <td>-0.861799</td>\n",
       "      <td>-1.734511</td>\n",
       "      <td>-0.974182</td>\n",
       "      <td>-1.946140</td>\n",
       "      <td>0.843609</td>\n",
       "      <td>1.253149</td>\n",
       "      <td>0.675416</td>\n",
       "      <td>-0.830334</td>\n",
       "      <td>0.117681</td>\n",
       "      <td>-0.893905</td>\n",
       "      <td>-0.560386</td>\n",
       "      <td>0.558454</td>\n",
       "      <td>-1.087490</td>\n",
       "      <td>-0.487359</td>\n",
       "    </tr>\n",
       "    <tr>\n",
       "      <th>1</th>\n",
       "      <td>407845</td>\n",
       "      <td>Rodney, Fernando</td>\n",
       "      <td>1</td>\n",
       "      <td>-0.325049</td>\n",
       "      <td>0.412105</td>\n",
       "      <td>0.844812</td>\n",
       "      <td>-1.943539</td>\n",
       "      <td>1.407994</td>\n",
       "      <td>-0.474276</td>\n",
       "      <td>-0.723315</td>\n",
       "      <td>1.009887</td>\n",
       "      <td>-0.056674</td>\n",
       "      <td>-1.214032</td>\n",
       "      <td>-0.399936</td>\n",
       "      <td>-0.028721</td>\n",
       "      <td>0.980175</td>\n",
       "      <td>0.356909</td>\n",
       "      <td>0.354362</td>\n",
       "      <td>0.887441</td>\n",
       "      <td>-0.777481</td>\n",
       "      <td>1.150140</td>\n",
       "      <td>0.379045</td>\n",
       "      <td>-0.877219</td>\n",
       "      <td>-0.129367</td>\n",
       "      <td>-0.781237</td>\n",
       "      <td>-0.763319</td>\n",
       "      <td>1.820443</td>\n",
       "      <td>0.186724</td>\n",
       "      <td>0.111367</td>\n",
       "      <td>-0.706723</td>\n",
       "      <td>-1.016363</td>\n",
       "      <td>0.063014</td>\n",
       "      <td>0.311044</td>\n",
       "      <td>0.400184</td>\n",
       "    </tr>\n",
       "    <tr>\n",
       "      <th>2</th>\n",
       "      <td>425794</td>\n",
       "      <td>Wainwright, Adam</td>\n",
       "      <td>1</td>\n",
       "      <td>0.890503</td>\n",
       "      <td>0.671624</td>\n",
       "      <td>0.136999</td>\n",
       "      <td>0.618410</td>\n",
       "      <td>-0.866996</td>\n",
       "      <td>-0.119382</td>\n",
       "      <td>-0.493045</td>\n",
       "      <td>0.489261</td>\n",
       "      <td>0.365527</td>\n",
       "      <td>-0.257578</td>\n",
       "      <td>-0.990677</td>\n",
       "      <td>-1.062663</td>\n",
       "      <td>-0.231836</td>\n",
       "      <td>-0.383837</td>\n",
       "      <td>-0.292282</td>\n",
       "      <td>-0.859654</td>\n",
       "      <td>-0.595831</td>\n",
       "      <td>-2.326788</td>\n",
       "      <td>-2.029239</td>\n",
       "      <td>-0.890028</td>\n",
       "      <td>1.964424</td>\n",
       "      <td>0.016974</td>\n",
       "      <td>-0.667373</td>\n",
       "      <td>-2.055827</td>\n",
       "      <td>-0.874668</td>\n",
       "      <td>0.126060</td>\n",
       "      <td>1.522478</td>\n",
       "      <td>0.123506</td>\n",
       "      <td>-0.004027</td>\n",
       "      <td>-1.545530</td>\n",
       "      <td>-0.489203</td>\n",
       "    </tr>\n",
       "    <tr>\n",
       "      <th>3</th>\n",
       "      <td>425844</td>\n",
       "      <td>Greinke, Zack</td>\n",
       "      <td>1</td>\n",
       "      <td>0.994824</td>\n",
       "      <td>1.016306</td>\n",
       "      <td>-1.073580</td>\n",
       "      <td>0.232480</td>\n",
       "      <td>0.835699</td>\n",
       "      <td>-0.724339</td>\n",
       "      <td>-0.425868</td>\n",
       "      <td>0.231157</td>\n",
       "      <td>0.375481</td>\n",
       "      <td>-0.205252</td>\n",
       "      <td>-0.558506</td>\n",
       "      <td>-0.487349</td>\n",
       "      <td>0.887941</td>\n",
       "      <td>-0.659035</td>\n",
       "      <td>-0.347987</td>\n",
       "      <td>-1.796965</td>\n",
       "      <td>-0.584117</td>\n",
       "      <td>-1.453952</td>\n",
       "      <td>-1.416104</td>\n",
       "      <td>0.393099</td>\n",
       "      <td>0.874025</td>\n",
       "      <td>0.143885</td>\n",
       "      <td>-0.558205</td>\n",
       "      <td>-0.366380</td>\n",
       "      <td>0.718123</td>\n",
       "      <td>-0.773582</td>\n",
       "      <td>-0.011027</td>\n",
       "      <td>0.259922</td>\n",
       "      <td>-0.157933</td>\n",
       "      <td>-1.171757</td>\n",
       "      <td>0.121204</td>\n",
       "    </tr>\n",
       "    <tr>\n",
       "      <th>4</th>\n",
       "      <td>429719</td>\n",
       "      <td>Jackson, Edwin</td>\n",
       "      <td>1</td>\n",
       "      <td>0.149968</td>\n",
       "      <td>0.188311</td>\n",
       "      <td>0.593676</td>\n",
       "      <td>-0.085454</td>\n",
       "      <td>-0.512703</td>\n",
       "      <td>1.605523</td>\n",
       "      <td>2.223208</td>\n",
       "      <td>-0.164046</td>\n",
       "      <td>1.483538</td>\n",
       "      <td>-0.440398</td>\n",
       "      <td>-0.292634</td>\n",
       "      <td>-0.412679</td>\n",
       "      <td>-0.933544</td>\n",
       "      <td>-0.981161</td>\n",
       "      <td>3.166031</td>\n",
       "      <td>0.456277</td>\n",
       "      <td>3.020812</td>\n",
       "      <td>0.773486</td>\n",
       "      <td>-0.057273</td>\n",
       "      <td>0.458904</td>\n",
       "      <td>0.031908</td>\n",
       "      <td>-0.079974</td>\n",
       "      <td>-0.824248</td>\n",
       "      <td>0.561409</td>\n",
       "      <td>-0.475518</td>\n",
       "      <td>1.341846</td>\n",
       "      <td>-0.426934</td>\n",
       "      <td>0.135760</td>\n",
       "      <td>1.811583</td>\n",
       "      <td>-0.931285</td>\n",
       "      <td>-0.302467</td>\n",
       "    </tr>\n",
       "  </tbody>\n",
       "</table>\n",
       "</div>"
      ],
      "text/plain": [
       "   pitcher       player_name  throws_right  release_pos_x  release_pos_z  \\\n",
       "0   282332      Sabathia, CC             0      -0.547886       0.107543   \n",
       "1   407845  Rodney, Fernando             1      -0.325049       0.412105   \n",
       "2   425794  Wainwright, Adam             1       0.890503       0.671624   \n",
       "3   425844     Greinke, Zack             1       0.994824       1.016306   \n",
       "4   429719    Jackson, Edwin             1       0.149968       0.188311   \n",
       "\n",
       "   fastball_2pct  breaking_2pct  off_speed_2pct  launch_speed  solid_rate  \\\n",
       "0       0.109660      -0.049288       -0.055396     -1.212597   -0.123259   \n",
       "1       0.844812      -1.943539        1.407994     -0.474276   -0.723315   \n",
       "2       0.136999       0.618410       -0.866996     -0.119382   -0.493045   \n",
       "3      -1.073580       0.232480        0.835699     -0.724339   -0.425868   \n",
       "4       0.593676      -0.085454       -0.512703      1.605523    2.223208   \n",
       "\n",
       "    GB_rate   LD_rate   FB_rate   PU_rate  whiff_rate  OSwing_pct       K_9  \\\n",
       "0 -0.360197 -0.891727  1.707820 -0.540799    0.088381    0.663420  0.090509   \n",
       "1  1.009887 -0.056674 -1.214032 -0.399936   -0.028721    0.980175  0.356909   \n",
       "2  0.489261  0.365527 -0.257578 -0.990677   -1.062663   -0.231836 -0.383837   \n",
       "3  0.231157  0.375481 -0.205252 -0.558506   -0.487349    0.887941 -0.659035   \n",
       "4 -0.164046  1.483538 -0.440398 -0.292634   -0.412679   -0.933544 -0.981161   \n",
       "\n",
       "      hit_9      BB_9      HR_9  release_speed_breaking  \\\n",
       "0  0.413008 -0.364793  1.587126               -0.861799   \n",
       "1  0.354362  0.887441 -0.777481                1.150140   \n",
       "2 -0.292282 -0.859654 -0.595831               -2.326788   \n",
       "3 -0.347987 -1.796965 -0.584117               -1.453952   \n",
       "4  3.166031  0.456277  3.020812                0.773486   \n",
       "\n",
       "   release_speed_fastball  release_speed_off_speed  pfx_x_breaking  \\\n",
       "0               -1.734511                -0.974182       -1.946140   \n",
       "1                0.379045                -0.877219       -0.129367   \n",
       "2               -2.029239                -0.890028        1.964424   \n",
       "3               -1.416104                 0.393099        0.874025   \n",
       "4               -0.057273                 0.458904        0.031908   \n",
       "\n",
       "   pfx_x_fastball  pfx_x_off_speed  pfx_z_breaking  pfx_z_fastball  \\\n",
       "0        0.843609         1.253149        0.675416       -0.830334   \n",
       "1       -0.781237        -0.763319        1.820443        0.186724   \n",
       "2        0.016974        -0.667373       -2.055827       -0.874668   \n",
       "3        0.143885        -0.558205       -0.366380        0.718123   \n",
       "4       -0.079974        -0.824248        0.561409       -0.475518   \n",
       "\n",
       "   pfx_z_off_speed  release_spin_rate_breaking  release_spin_rate_fastball  \\\n",
       "0         0.117681                   -0.893905                   -0.560386   \n",
       "1         0.111367                   -0.706723                   -1.016363   \n",
       "2         0.126060                    1.522478                    0.123506   \n",
       "3        -0.773582                   -0.011027                    0.259922   \n",
       "4         1.341846                   -0.426934                    0.135760   \n",
       "\n",
       "   release_spin_rate_off_speed  spin_axis_fastball  spin_axis_off_speed  \n",
       "0                     0.558454           -1.087490            -0.487359  \n",
       "1                     0.063014            0.311044             0.400184  \n",
       "2                    -0.004027           -1.545530            -0.489203  \n",
       "3                    -0.157933           -1.171757             0.121204  \n",
       "4                     1.811583           -0.931285            -0.302467  "
      ]
     },
     "execution_count": 10,
     "metadata": {},
     "output_type": "execute_result"
    }
   ],
   "source": [
    "data_std = data.copy()\n",
    "for i in data.columns[3:]:\n",
    "    data_std[i] = scaler.fit_transform(data[[i]])\n",
    "\n",
    "data_std.head()"
   ]
  },
  {
   "cell_type": "markdown",
   "id": "e8bcaaf8",
   "metadata": {},
   "source": [
    "## 1.4 Feature Subsets"
   ]
  },
  {
   "cell_type": "code",
   "execution_count": 11,
   "id": "674ce877",
   "metadata": {},
   "outputs": [],
   "source": [
    "full = ['release_pos_x', 'release_pos_z', 'fastball_2pct', 'breaking_2pct', 'off_speed_2pct',\n",
    "        'launch_speed', 'solid_rate', 'GB_rate', 'LD_rate', 'FB_rate', 'PU_rate', 'whiff_rate', \n",
    "        'OSwing_pct', 'K_9', 'hit_9', 'BB_9', 'HR_9', 'release_speed_breaking', 'release_speed_fastball',\n",
    "        'release_speed_off_speed', 'pfx_x_breaking', 'pfx_x_fastball', 'pfx_x_off_speed', \n",
    "        'pfx_z_breaking', 'pfx_z_fastball', 'pfx_z_off_speed', 'release_spin_rate_breaking',\n",
    "        'release_spin_rate_fastball', 'release_spin_rate_off_speed', 'spin_axis_fastball', 'spin_axis_off_speed']\n",
    "\n",
    "player = ['release_pos_x', 'release_pos_z', 'fastball_2pct', 'breaking_2pct', 'off_speed_2pct']\n",
    "\n",
    "swing = ['whiff_rate', 'OSwing_pct']\n",
    "\n",
    "contact = ['launch_speed', 'solid_rate', 'GB_rate', 'LD_rate', 'FB_rate', 'PU_rate']\n",
    "\n",
    "production = ['K_9', 'hit_9', 'BB_9', 'HR_9']\n",
    "\n",
    "pitch = ['release_speed_breaking', 'release_speed_fastball', 'release_speed_off_speed', \n",
    "         'pfx_x_breaking', 'pfx_x_fastball', 'pfx_x_off_speed', 'pfx_z_breaking', 'pfx_z_fastball',\n",
    "         'pfx_z_off_speed', 'release_spin_rate_breaking', 'release_spin_rate_fastball', \n",
    "         'release_spin_rate_off_speed', 'spin_axis_fastball', 'spin_axis_off_speed']"
   ]
  },
  {
   "cell_type": "markdown",
   "id": "41e65a37",
   "metadata": {},
   "source": [
    "## 1.5 Functions\n",
    "### Multi CV\n",
    "#### Perform cross validation on each number of clusters.\n",
    "\n",
    "labels: a dictionary with keys from 1 to n, each contains the pitcher grouping label produced by the model. This function will perform a 5-fold CV n times."
   ]
  },
  {
   "cell_type": "code",
   "execution_count": 12,
   "id": "d6f04702",
   "metadata": {},
   "outputs": [],
   "source": [
    "def multi_cross_val(labels):\n",
    "    \n",
    "    RV_test = [] # list of true RV which is constant\n",
    "    RV_pred = [] # list of predicted xRV for each num of cluster labeling\n",
    "    RV_league = [] # list of predicted league xRV\n",
    "    errors = [] # errors list\n",
    "    errors_pct = [] # erros pct list\n",
    "    erros_league = [] # league errors list\n",
    "    erros_league_pct = [] # league errors pct list\n",
    "    \n",
    "    \n",
    "    for i in tqdm(labels): # loop through labels dictionary\n",
    "        label = labels[i]\n",
    "        func.cross_val(train_full_df, cluster, pitchers_new, batters_new, label, num_fold=5)\n",
    "\n",
    "        RV_test.append(func.cross_val.RV_test_avg)\n",
    "        RV_pred.append(func.cross_val.RV_pred_avg)\n",
    "        RV_league.append(func.cross_val.RV_league_avg)\n",
    "        errors.append(func.cross_val.error_avg)\n",
    "        errors_pct.append(func.cross_val.error_pct_avg)\n",
    "        erros_league.append(func.cross_val.errorLeague_avg)\n",
    "        erros_league_pct.append(func.cross_val.errorLeague_pct_avg)\n",
    "\n",
    "    # save results as function attributes\n",
    "    multi_cross_val.RV_test = RV_test\n",
    "    multi_cross_val.RV_pred = RV_pred\n",
    "    multi_cross_val.RV_league = RV_league\n",
    "    multi_cross_val.errors = errors\n",
    "    multi_cross_val.errors_pct = errors_pct\n",
    "    multi_cross_val.erros_league = erros_league\n",
    "    multi_cross_val.erros_league_pct = erros_league_pct\n",
    "    \n",
    "    return multi_cross_val"
   ]
  },
  {
   "cell_type": "markdown",
   "id": "6f4cfd77",
   "metadata": {},
   "source": [
    "### Plot Results Chart\n",
    "#### Plot one error pct line graph on the left, and one predicted vs true RV line graph on the right\n",
    "\n",
    "results: function object which contains multi CV results\n",
    "\n",
    "model_name: string of model name for graph legend\n",
    "\n",
    "features_set: string of features subset as graph title"
   ]
  },
  {
   "cell_type": "code",
   "execution_count": 13,
   "id": "3cea80e6",
   "metadata": {},
   "outputs": [],
   "source": [
    "def plot_charts(results, model_name, features_set):\n",
    "    plt.style.use('seaborn')\n",
    "    \n",
    "    x = [x for x in range(1,len(results.errors_pct)+1)]\n",
    "    fig, ax = plt.subplots(1,2, figsize=(13,6))\n",
    "    fig.suptitle(features_set, fontsize=20)\n",
    "    sns.lineplot(x=x, y=results.errors_pct, ax=ax[0])\n",
    "    sns.lineplot(x=x, y=results.erros_league_pct, ax=ax[0])\n",
    "    ax[0].legend([model_name, 'league average'])\n",
    "    sns.lineplot(x=x, y=results.RV_pred, ax=ax[1])\n",
    "    sns.lineplot(x=x, y=results.RV_league, ax=ax[1])\n",
    "    sns.lineplot(x=x, y=results.RV_test, ax=ax[1])\n",
    "    ax[1].legend([model_name, 'league average', 'true RV'])\n",
    "    ax[0].set(xlabel='Number of Clusters',\n",
    "           ylabel='Error Percentage',\n",
    "           title='RV Prediction Error')\n",
    "    ax[1].set(xlabel='Number of Clusters',\n",
    "           ylabel='Season Avg RV',\n",
    "           title='Season Avg RV')\n",
    "    plt.show()"
   ]
  },
  {
   "cell_type": "markdown",
   "id": "f20c9223",
   "metadata": {},
   "source": [
    "# 2. Cluster Modeling\n",
    "### PCA (used in cluster_analysis.ipynb)"
   ]
  },
  {
   "cell_type": "code",
   "execution_count": 14,
   "id": "0c77b943",
   "metadata": {},
   "outputs": [],
   "source": [
    "# from sklearn.decomposition import PCA"
   ]
  },
  {
   "cell_type": "code",
   "execution_count": 15,
   "id": "1f72db39",
   "metadata": {},
   "outputs": [],
   "source": [
    "# X = data_std[full]\n",
    "\n",
    "# pca = PCA(n_components=10).fit(X)\n",
    "# transformed = pca.transform(X)\n",
    "# print(transformed.shape)"
   ]
  },
  {
   "cell_type": "code",
   "execution_count": 16,
   "id": "2835a1af",
   "metadata": {},
   "outputs": [],
   "source": [
    "# xs = transformed[:,0]\n",
    "# ys = transformed[:,1]\n",
    "# plt.scatter(xs, ys, alpha=0.7)\n",
    "# plt.show()"
   ]
  },
  {
   "cell_type": "code",
   "execution_count": 17,
   "id": "0ed900e2",
   "metadata": {},
   "outputs": [],
   "source": [
    "# features = range(pca.n_components_)\n",
    "\n",
    "# plt.bar(features, pca.explained_variance_)\n",
    "# plt.ylabel('variance')\n",
    "# plt.xlabel('PCA feature')\n",
    "# plt.show()"
   ]
  },
  {
   "cell_type": "code",
   "execution_count": 18,
   "id": "20cb1288",
   "metadata": {},
   "outputs": [],
   "source": [
    "# plt.plot(np.cumsum(pca.explained_variance_ratio_))\n",
    "# plt.xlabel('number of components')\n",
    "# plt.ylabel('cumulative explained variance');"
   ]
  },
  {
   "cell_type": "markdown",
   "id": "9198cd5e",
   "metadata": {},
   "source": [
    "## 2.1 K-means"
   ]
  },
  {
   "cell_type": "code",
   "execution_count": 19,
   "id": "342940df",
   "metadata": {},
   "outputs": [],
   "source": [
    "from sklearn.cluster import KMeans"
   ]
  },
  {
   "cell_type": "markdown",
   "id": "a7cbf422",
   "metadata": {},
   "source": [
    "### Full Features"
   ]
  },
  {
   "cell_type": "code",
   "execution_count": 20,
   "id": "02559e0e",
   "metadata": {},
   "outputs": [],
   "source": [
    "X = data_std[full]\n",
    "sse = {}\n",
    "labels_KM_full = {}\n",
    "for i in range(1,9):\n",
    "    kmeans = KMeans(n_clusters=i, random_state=0).fit(X)\n",
    "    labels_KM_full[i] = kmeans.labels_\n",
    "    sse[i] = kmeans.inertia_"
   ]
  },
  {
   "cell_type": "code",
   "execution_count": null,
   "id": "b4307a98",
   "metadata": {},
   "outputs": [],
   "source": [
    "KM_Full = multi_cross_val(labels_KM_full)\n",
    "KM_Full_error_pct = KM_Full.errors_pct\n",
    "plot_charts(KM_Full, 'K-means', 'Full Features')"
   ]
  },
  {
   "cell_type": "markdown",
   "id": "c5d224f8",
   "metadata": {},
   "source": [
    "### Production"
   ]
  },
  {
   "cell_type": "code",
   "execution_count": null,
   "id": "ff35177a",
   "metadata": {},
   "outputs": [],
   "source": [
    "X = data_std[production]\n",
    "sse = {}\n",
    "labels_KM_prod = {}\n",
    "for i in range(1,9):\n",
    "    kmeans = KMeans(n_clusters=i, random_state=0).fit(X)\n",
    "    labels_KM_prod[i] = kmeans.labels_\n",
    "    sse[i] = kmeans.inertia_"
   ]
  },
  {
   "cell_type": "code",
   "execution_count": null,
   "id": "9d2d35fa",
   "metadata": {},
   "outputs": [],
   "source": [
    "KM_Prod = multi_cross_val(labels_KM_prod)\n",
    "KM_Prod_error_pct = KM_Prod.errors_pct\n",
    "\n",
    "plot_charts(KM_Prod, 'K-means', 'Production')"
   ]
  },
  {
   "cell_type": "markdown",
   "id": "0ed31c3f",
   "metadata": {},
   "source": [
    "### Production + Contact"
   ]
  },
  {
   "cell_type": "code",
   "execution_count": null,
   "id": "330048c2",
   "metadata": {},
   "outputs": [],
   "source": [
    "X = data_std[production+contact]\n",
    "sse = {}\n",
    "labels_KM_ProdCont = {}\n",
    "for i in range(1,9):\n",
    "    kmeans = KMeans(n_clusters=i, random_state=0).fit(X)\n",
    "    labels_KM_ProdCont[i] = kmeans.labels_\n",
    "    sse[i] = kmeans.inertia_"
   ]
  },
  {
   "cell_type": "code",
   "execution_count": null,
   "id": "fb2a64d7",
   "metadata": {},
   "outputs": [],
   "source": [
    "KM_ProdCont = multi_cross_val(labels_KM_ProdCont)\n",
    "KM_ProdCont_error_pct = KM_ProdCont.errors_pct\n",
    "\n",
    "plot_charts(KM_ProdCont, 'K-means', 'Production Contact')"
   ]
  },
  {
   "cell_type": "markdown",
   "id": "9245fe5d",
   "metadata": {},
   "source": [
    "### Production + Contact + Swing"
   ]
  },
  {
   "cell_type": "code",
   "execution_count": null,
   "id": "581521c0",
   "metadata": {},
   "outputs": [],
   "source": [
    "X = data_std[production+contact+swing]\n",
    "\n",
    "sse = {}\n",
    "labels_KM_ProdContSwing = {}\n",
    "for i in range(1,9):\n",
    "    kmeans = KMeans(n_clusters=i, random_state=0).fit(X)\n",
    "    labels_KM_ProdContSwing[i] = kmeans.labels_\n",
    "    sse[i] = kmeans.inertia_"
   ]
  },
  {
   "cell_type": "code",
   "execution_count": null,
   "id": "0903e52b",
   "metadata": {},
   "outputs": [],
   "source": [
    "KM_ProdContSwing = multi_cross_val(labels_KM_ProdContSwing)\n",
    "KM_ProdContSwing_error_pct = KM_ProdContSwing.errors_pct\n",
    "\n",
    "plot_charts(KM_ProdContSwing, 'K-means', 'Production Contact Swing')"
   ]
  },
  {
   "cell_type": "markdown",
   "id": "94aec4d7",
   "metadata": {},
   "source": [
    "### Player + Production + Contact + Swing"
   ]
  },
  {
   "cell_type": "code",
   "execution_count": null,
   "id": "89bd3850",
   "metadata": {},
   "outputs": [],
   "source": [
    "X = data_std[player+production+contact+swing]\n",
    "\n",
    "sse = {}\n",
    "labels_KM_PlayerProdContSwing = {}\n",
    "for i in range(1,9):\n",
    "    kmeans = KMeans(n_clusters=i, random_state=0).fit(X)\n",
    "    labels_KM_PlayerProdContSwing[i] = kmeans.labels_\n",
    "    sse[i] = kmeans.inertia_"
   ]
  },
  {
   "cell_type": "code",
   "execution_count": null,
   "id": "7a63b165",
   "metadata": {},
   "outputs": [],
   "source": [
    "KM_PlayerProdContSwing = multi_cross_val(labels_KM_PlayerProdContSwing)\n",
    "KM_PlayerProdContSwing_error_pct = KM_PlayerProdContSwing.errors_pct\n",
    "\n",
    "plot_charts(KM_PlayerProdContSwing, 'K-means', 'Player Production Contact Swing')"
   ]
  },
  {
   "cell_type": "markdown",
   "id": "2c316b04",
   "metadata": {},
   "source": [
    "### Production Player"
   ]
  },
  {
   "cell_type": "code",
   "execution_count": null,
   "id": "4344b15a",
   "metadata": {},
   "outputs": [],
   "source": [
    "X = data_std[production+player]\n",
    "\n",
    "sse = {}\n",
    "labels_KM_ProdPlayer = {}\n",
    "for i in range(1,9):\n",
    "    kmeans = KMeans(n_clusters=i, random_state=0).fit(X)\n",
    "    labels_KM_ProdPlayer[i] = kmeans.labels_\n",
    "    sse[i] = kmeans.inertia_"
   ]
  },
  {
   "cell_type": "code",
   "execution_count": null,
   "id": "b891d399",
   "metadata": {},
   "outputs": [],
   "source": [
    "KM_ProdPlayer = multi_cross_val(labels_KM_ProdPlayer)\n",
    "KM_ProdPlayer_error_pct = KM_ProdPlayer.errors_pct\n",
    "\n",
    "plot_charts(KM_ProdPlayer, 'K-means', 'Player Production')"
   ]
  },
  {
   "cell_type": "markdown",
   "id": "011e199a",
   "metadata": {},
   "source": [
    "### Player Pitch"
   ]
  },
  {
   "cell_type": "code",
   "execution_count": null,
   "id": "a3197d5e",
   "metadata": {},
   "outputs": [],
   "source": [
    "X = data_std[player+pitch]\n",
    "\n",
    "sse = {}\n",
    "labels_KM_PlayerPitch = {}\n",
    "for i in range(1,9):\n",
    "    kmeans = KMeans(n_clusters=i, random_state=0).fit(X)\n",
    "    labels_KM_PlayerPitch[i] = kmeans.labels_\n",
    "    sse[i] = kmeans.inertia_"
   ]
  },
  {
   "cell_type": "code",
   "execution_count": null,
   "id": "ae6623f6",
   "metadata": {
    "scrolled": false
   },
   "outputs": [],
   "source": [
    "KM_PlayerPitch = multi_cross_val(labels_KM_PlayerPitch)\n",
    "KM_PlayerPitch_error_pct = KM_PlayerPitch.errors_pct\n",
    "\n",
    "plot_charts(KM_PlayerPitch, 'K-means', 'Player Pitch')"
   ]
  },
  {
   "cell_type": "markdown",
   "id": "87fd9d52",
   "metadata": {},
   "source": [
    "### Player + Prod + Pitch"
   ]
  },
  {
   "cell_type": "code",
   "execution_count": null,
   "id": "16259ca3",
   "metadata": {},
   "outputs": [],
   "source": [
    "X = data_std[player+production+pitch]\n",
    "\n",
    "sse = {}\n",
    "labels_KM_PlayerProdPitch = {}\n",
    "for i in range(1,9):\n",
    "    kmeans = KMeans(n_clusters=i, random_state=0).fit(X)\n",
    "    labels_KM_PlayerProdPitch[i] = kmeans.labels_\n",
    "    sse[i] = kmeans.inertia_"
   ]
  },
  {
   "cell_type": "code",
   "execution_count": null,
   "id": "b612429f",
   "metadata": {},
   "outputs": [],
   "source": [
    "KM_PlayerProdPitch = multi_cross_val(labels_KM_PlayerProdPitch)\n",
    "KM_PlayerProdPitch_error_pct = KM_PlayerProdPitch.errors_pct\n",
    "\n",
    "plot_charts(KM_PlayerProdPitch, 'K-means', 'Player Production Pitch')"
   ]
  },
  {
   "cell_type": "code",
   "execution_count": null,
   "id": "43dd85d2",
   "metadata": {},
   "outputs": [],
   "source": [
    "# sns.set_style(\"darkgrid\")\n",
    "# fig, ax = plt.subplots(figsize=(8,5))\n",
    "# ax = sns.lineplot(x=sse.keys(), y=sse.values(), marker='o', color='red')\n",
    "\n",
    "# plt.xlabel(\"Number of cluster\")\n",
    "# plt.ylabel(\"SSE\")\n",
    "# plt.show()"
   ]
  },
  {
   "cell_type": "code",
   "execution_count": null,
   "id": "ad153945",
   "metadata": {},
   "outputs": [],
   "source": [
    "# pca = PCA(n_components=2).fit(X)\n",
    "# transformed = pca.transform(X)\n",
    "# xs = transformed[:,0]\n",
    "# ys = transformed[:,1]\n",
    "# plt.scatter(xs, ys, alpha=0.7, c=labels_KM_full[3])\n",
    "# plt.show()"
   ]
  },
  {
   "cell_type": "markdown",
   "id": "7c5fe607",
   "metadata": {},
   "source": [
    "## 2.2 Hierarchical"
   ]
  },
  {
   "cell_type": "code",
   "execution_count": null,
   "id": "bed8a9e1",
   "metadata": {},
   "outputs": [],
   "source": [
    "from scipy.cluster.hierarchy import linkage, dendrogram\n",
    "from scipy.cluster.hierarchy import fcluster"
   ]
  },
  {
   "cell_type": "markdown",
   "id": "83fa414b",
   "metadata": {},
   "source": [
    "## Functions"
   ]
  },
  {
   "cell_type": "code",
   "execution_count": null,
   "id": "79a86782",
   "metadata": {},
   "outputs": [],
   "source": [
    "def produce_labels_HC(X, method='complete', metric='correlation', criterion='distance'):\n",
    "    mergings = linkage(X, method=method, metric=metric)\n",
    "    \n",
    "    labels_HC = {}\n",
    "    \n",
    "    count = 0\n",
    "    for i in np.arange(2,1.4, -0.01):\n",
    "        n_unique = 0\n",
    "        n_unique = len(set(fcluster(mergings, i, criterion=criterion)))\n",
    "        if n_unique != count:\n",
    "            labels_HC[n_unique] = fcluster(mergings, i, criterion=criterion)\n",
    "        else:\n",
    "            continue\n",
    "        count = n_unique\n",
    "\n",
    "        if n_unique <= 7:\n",
    "            continue\n",
    "        else:\n",
    "            break\n",
    "    return labels_HC, mergings"
   ]
  },
  {
   "cell_type": "markdown",
   "id": "a974a9b8",
   "metadata": {},
   "source": [
    "### Full Features"
   ]
  },
  {
   "cell_type": "code",
   "execution_count": null,
   "id": "3681fc0b",
   "metadata": {},
   "outputs": [],
   "source": [
    "X = data_std[full]\n",
    "labels_HC_full, mergings_full = produce_labels_HC(X)"
   ]
  },
  {
   "cell_type": "code",
   "execution_count": null,
   "id": "cc4da82c",
   "metadata": {
    "scrolled": false
   },
   "outputs": [],
   "source": [
    "HC_Full = multi_cross_val(labels_HC_full)\n",
    "HC_Full_error_pct = HC_Full.errors_pct\n",
    "\n",
    "plot_charts(HC_Full, 'hierarchical', 'Full Features')"
   ]
  },
  {
   "cell_type": "markdown",
   "id": "1d9b11f8",
   "metadata": {},
   "source": [
    "### Production"
   ]
  },
  {
   "cell_type": "code",
   "execution_count": null,
   "id": "6843b7dc",
   "metadata": {},
   "outputs": [],
   "source": [
    "X = data_std[production]\n",
    "labels_HC_Prod, mergings_Prod = produce_labels_HC(X)"
   ]
  },
  {
   "cell_type": "code",
   "execution_count": null,
   "id": "f4e4d610",
   "metadata": {
    "scrolled": false
   },
   "outputs": [],
   "source": [
    "HC_Prod = multi_cross_val(labels_HC_Prod)\n",
    "HC_Prod_errors_pct = HC_Prod.errors_pct\n",
    "\n",
    "plot_charts(HC_Prod, 'hierarchical', 'Production')"
   ]
  },
  {
   "cell_type": "markdown",
   "id": "d36d1e88",
   "metadata": {},
   "source": [
    "### Contact"
   ]
  },
  {
   "cell_type": "code",
   "execution_count": null,
   "id": "60ff626c",
   "metadata": {},
   "outputs": [],
   "source": [
    "X = data_std[contact]\n",
    "labels_HC_Cont, mergings_Cont = produce_labels_HC(X)"
   ]
  },
  {
   "cell_type": "code",
   "execution_count": null,
   "id": "0d9f8e43",
   "metadata": {},
   "outputs": [],
   "source": [
    "HC_Cont = multi_cross_val(labels_HC_Cont)\n",
    "HC_Cont_errors_pct = HC_Cont.errors_pct\n",
    "\n",
    "plot_charts(HC_Cont, 'hierarchical', 'Contact')"
   ]
  },
  {
   "cell_type": "markdown",
   "id": "108764c4",
   "metadata": {},
   "source": [
    "### Pitch"
   ]
  },
  {
   "cell_type": "code",
   "execution_count": null,
   "id": "6398aedf",
   "metadata": {},
   "outputs": [],
   "source": [
    "X = data_std[pitch]\n",
    "labels_HC_Pitch, mergings_Pitch = produce_labels_HC(X)"
   ]
  },
  {
   "cell_type": "code",
   "execution_count": null,
   "id": "8f3d72c2",
   "metadata": {},
   "outputs": [],
   "source": [
    "HC_Pitch = multi_cross_val(labels_HC_Pitch)\n",
    "HC_Pitch_errors_pct = HC_Pitch.errors_pct\n",
    "\n",
    "plot_charts(HC_Pitch, 'hierarchical', 'Pitch')"
   ]
  },
  {
   "cell_type": "markdown",
   "id": "52103712",
   "metadata": {},
   "source": [
    "### Production+Contact"
   ]
  },
  {
   "cell_type": "code",
   "execution_count": null,
   "id": "fab28713",
   "metadata": {},
   "outputs": [],
   "source": [
    "X = data_std[production+contact]\n",
    "labels_HC_ProdCont, mergings_ProdCont = produce_labels_HC(X)"
   ]
  },
  {
   "cell_type": "code",
   "execution_count": null,
   "id": "1918afde",
   "metadata": {},
   "outputs": [],
   "source": [
    "HC_ProdCont = multi_cross_val(labels_HC_ProdCont)\n",
    "HC_ProdCont_errors_pct = HC_ProdCont.errors_pct\n",
    "\n",
    "plot_charts(HC_ProdCont, 'hierarchical', 'Production Contact')"
   ]
  },
  {
   "cell_type": "markdown",
   "id": "80fb02e4",
   "metadata": {},
   "source": [
    "### Production + Player"
   ]
  },
  {
   "cell_type": "code",
   "execution_count": null,
   "id": "d1370c7b",
   "metadata": {},
   "outputs": [],
   "source": [
    "X = data_std[production+player]\n",
    "labels_HC_ProdPlayer, mergings_ProdPlayer = produce_labels_HC(X)"
   ]
  },
  {
   "cell_type": "code",
   "execution_count": null,
   "id": "c0a95883",
   "metadata": {},
   "outputs": [],
   "source": [
    "HC_ProdPlayer = multi_cross_val(labels_HC_ProdPlayer)\n",
    "HC_ProdPlayer_errors_pct = HC_ProdPlayer.errors_pct\n",
    "\n",
    "plot_charts(HC_ProdPlayer, 'hierarchical', 'Production Player')"
   ]
  },
  {
   "cell_type": "markdown",
   "id": "cb5b3721",
   "metadata": {},
   "source": [
    "### Player + Pitch"
   ]
  },
  {
   "cell_type": "code",
   "execution_count": null,
   "id": "f2a1a0fa",
   "metadata": {},
   "outputs": [],
   "source": [
    "X = data_std[player+pitch]\n",
    "labels_HC_PlayerPitch, mergings_PlayerPitch = produce_labels_HC(X)"
   ]
  },
  {
   "cell_type": "code",
   "execution_count": null,
   "id": "a00d28fe",
   "metadata": {
    "scrolled": false
   },
   "outputs": [],
   "source": [
    "HC_PlayerPitch = multi_cross_val(labels_HC_PlayerPitch)\n",
    "HC_PlayerPitch_errors_pct = HC_PlayerPitch.errors_pct\n",
    "\n",
    "plot_charts(HC_PlayerPitch, 'hierarchical', 'Player Pitch')"
   ]
  },
  {
   "cell_type": "markdown",
   "id": "e40997bc",
   "metadata": {},
   "source": [
    "### Production + Contact + Swing"
   ]
  },
  {
   "cell_type": "code",
   "execution_count": null,
   "id": "507b0387",
   "metadata": {},
   "outputs": [],
   "source": [
    "X = data_std[production+contact+swing]\n",
    "labels_HC_ProdContSwing, mergings_ProdContSwing = produce_labels_HC(X)"
   ]
  },
  {
   "cell_type": "code",
   "execution_count": null,
   "id": "409f56c1",
   "metadata": {
    "scrolled": false
   },
   "outputs": [],
   "source": [
    "HC_ProdContSwing = multi_cross_val(labels_HC_ProdContSwing)\n",
    "HC_ProdContSwing_errors_pct = HC_ProdContSwing.errors_pct\n",
    "\n",
    "plot_charts(HC_ProdContSwing, 'hierarchical', 'Production Contact Swing')"
   ]
  },
  {
   "cell_type": "markdown",
   "id": "3224739c",
   "metadata": {},
   "source": [
    "### Player + Production + Contact + Swing"
   ]
  },
  {
   "cell_type": "code",
   "execution_count": null,
   "id": "81b5c8fa",
   "metadata": {},
   "outputs": [],
   "source": [
    "X = data_std[player+production+contact+swing]\n",
    "labels_HC_PlayerProdContSwing, mergings_PlayerProdContSwing = produce_labels_HC(X)"
   ]
  },
  {
   "cell_type": "code",
   "execution_count": null,
   "id": "b6f16f4d",
   "metadata": {},
   "outputs": [],
   "source": [
    "HC_PlayerProdContSwing = multi_cross_val(labels_HC_PlayerProdContSwing)\n",
    "HC_PlayerProdContSwing_errors_pct = HC_PlayerProdContSwing.errors_pct\n",
    "\n",
    "plot_charts(HC_PlayerProdContSwing, 'hierarchical', 'Player Production Contact Swing')"
   ]
  },
  {
   "cell_type": "markdown",
   "id": "69c4fd67",
   "metadata": {},
   "source": [
    "### Player+Production+Pitch"
   ]
  },
  {
   "cell_type": "code",
   "execution_count": null,
   "id": "e2a20ddb",
   "metadata": {},
   "outputs": [],
   "source": [
    "X = data_std[player+production+pitch]\n",
    "labels_HC_PlayerProdPitch, mergings_PlayerProdPitch = produce_labels_HC(X)"
   ]
  },
  {
   "cell_type": "code",
   "execution_count": null,
   "id": "1d442c86",
   "metadata": {},
   "outputs": [],
   "source": [
    "HC_PlayerProdPitch = multi_cross_val(labels_HC_PlayerProdPitch)\n",
    "HC_PlayerProdPitch_errors_pct = HC_PlayerProdPitch.errors_pct\n",
    "\n",
    "plot_charts(HC_PlayerProdPitch, 'hierarchical', 'Player Production Pitch')"
   ]
  },
  {
   "cell_type": "markdown",
   "id": "3101ec2e",
   "metadata": {},
   "source": [
    "### Player + Contact + Pitch"
   ]
  },
  {
   "cell_type": "code",
   "execution_count": null,
   "id": "50603ec3",
   "metadata": {},
   "outputs": [],
   "source": [
    "X = data_std[player+contact+pitch]\n",
    "labels_HC_PlayerContPitch, mergings_PlayerContPitch = produce_labels_HC(X)"
   ]
  },
  {
   "cell_type": "code",
   "execution_count": null,
   "id": "5618a5b5",
   "metadata": {},
   "outputs": [],
   "source": [
    "HC_PlayerContPitch = multi_cross_val(labels_HC_PlayerContPitch)\n",
    "HC_PlayerContPitch_errors_pct = HC_PlayerContPitch.errors_pct\n",
    "\n",
    "plot_charts(HC_PlayerContPitch, 'hierarchical', 'Player Contact Pitch')"
   ]
  },
  {
   "cell_type": "markdown",
   "id": "8c5fa0ae",
   "metadata": {},
   "source": [
    "### Player Swing Pitch"
   ]
  },
  {
   "cell_type": "code",
   "execution_count": null,
   "id": "ecdd0a29",
   "metadata": {},
   "outputs": [],
   "source": [
    "X = data_std[player+swing+pitch]\n",
    "labels_HC_PlayerSwingPitch, mergings_PlayerSwingPitch = produce_labels_HC(X)"
   ]
  },
  {
   "cell_type": "code",
   "execution_count": null,
   "id": "483aa915",
   "metadata": {},
   "outputs": [],
   "source": [
    "HC_PlayerSwingPitch = multi_cross_val(labels_HC_PlayerSwingPitch)\n",
    "HC_PlayerSwingPitch_errors_pct = HC_PlayerSwingPitch.errors_pct\n",
    "\n",
    "plot_charts(HC_PlayerSwingPitch, 'hierarchical', 'Player Swing Pitch')"
   ]
  },
  {
   "cell_type": "markdown",
   "id": "6de21ef7",
   "metadata": {},
   "source": [
    "### Plot dendrogram"
   ]
  },
  {
   "cell_type": "code",
   "execution_count": null,
   "id": "4dee0cf2",
   "metadata": {},
   "outputs": [],
   "source": [
    "fig, ax = plt.subplots(figsize=(20, 10))\n",
    "dn = dendrogram(mergings_PlayerProdPitch, leaf_rotation=90, leaf_font_size=3, ax=ax)\n",
    "ax.set_title('Player Production Pitch', fontsize = 30)\n",
    "plt.show()"
   ]
  },
  {
   "cell_type": "code",
   "execution_count": null,
   "id": "630f9a3e",
   "metadata": {},
   "outputs": [],
   "source": [
    "# # mergings = linkage(X, method='complete', metric='correlation')\n",
    "\n",
    "# # fig, ax = plt.subplots(figsize=(20, 10))\n",
    "# # dn = dendrogram(mergings, leaf_rotation=90, leaf_font_size=3, ax=ax)\n",
    "# # plt.show()\n",
    "\n",
    "# labels_HC = fcluster(mergings, 1.86, criterion='distance')\n",
    "# set(labels_HC)"
   ]
  },
  {
   "cell_type": "code",
   "execution_count": null,
   "id": "3df12e81",
   "metadata": {
    "scrolled": true
   },
   "outputs": [],
   "source": [
    "# plt.hist(labels_HC_PlayerProdPitch[3])\n",
    "# plt.show()"
   ]
  },
  {
   "cell_type": "code",
   "execution_count": null,
   "id": "b704e732",
   "metadata": {},
   "outputs": [],
   "source": [
    "# plt.style.use('default')\n",
    "\n",
    "# pca = PCA(n_components=2).fit(X)\n",
    "# transformed = pca.transform(X)\n",
    "# xs = transformed[:,0]\n",
    "# ys = transformed[:,1]\n",
    "# plt.scatter(xs, ys, alpha=0.7, c=labels_HC_PlayerProdPitch[3])\n",
    "# plt.show()"
   ]
  },
  {
   "cell_type": "markdown",
   "id": "f6d28962",
   "metadata": {},
   "source": [
    "## 2.3 GMM"
   ]
  },
  {
   "cell_type": "code",
   "execution_count": null,
   "id": "5b2e0767",
   "metadata": {},
   "outputs": [],
   "source": [
    "from sklearn.mixture import GaussianMixture"
   ]
  },
  {
   "cell_type": "markdown",
   "id": "51d678ff",
   "metadata": {},
   "source": [
    "### Produce Labels Function\n",
    "#### Fit GMM with # of components from 1-7"
   ]
  },
  {
   "cell_type": "code",
   "execution_count": null,
   "id": "9b1694b1",
   "metadata": {},
   "outputs": [],
   "source": [
    "def produce_labels_GMM(X, max_iter=100):\n",
    "    labels_GMM = {}\n",
    "    for i in range(1,7):\n",
    "        gmm = GaussianMixture(n_components=i, max_iter=100, random_state=0).fit(X)\n",
    "        labels_GMM[i] = gmm.predict(X)\n",
    "    return labels_GMM"
   ]
  },
  {
   "cell_type": "markdown",
   "id": "20f39ed0",
   "metadata": {},
   "source": [
    "### Full"
   ]
  },
  {
   "cell_type": "code",
   "execution_count": null,
   "id": "c0efdceb",
   "metadata": {},
   "outputs": [],
   "source": [
    "X = data_std[full]\n",
    "labels_GMM_Full = produce_labels_GMM(X)"
   ]
  },
  {
   "cell_type": "code",
   "execution_count": null,
   "id": "1373ab52",
   "metadata": {},
   "outputs": [],
   "source": [
    "GMM_Full = multi_cross_val(labels_GMM_Full)\n",
    "GMM_Full_errors_pct = GMM_Full.errors_pct\n",
    "\n",
    "plot_charts(GMM_Full, 'GMM', 'Full Features')"
   ]
  },
  {
   "cell_type": "markdown",
   "id": "17762a0f",
   "metadata": {},
   "source": [
    "### Production"
   ]
  },
  {
   "cell_type": "code",
   "execution_count": null,
   "id": "2757a54f",
   "metadata": {},
   "outputs": [],
   "source": [
    "X = data_std[production]\n",
    "labels_GMM_Prod = produce_labels_GMM(X)"
   ]
  },
  {
   "cell_type": "code",
   "execution_count": null,
   "id": "f7ac62be",
   "metadata": {
    "scrolled": false
   },
   "outputs": [],
   "source": [
    "GMM_Prod = multi_cross_val(labels_GMM_Prod)\n",
    "GMM_Prod_errors_pct = GMM_Prod.errors_pct\n",
    "\n",
    "plot_charts(GMM_Prod, 'GMM', 'Production')"
   ]
  },
  {
   "cell_type": "markdown",
   "id": "bf359ccb",
   "metadata": {},
   "source": [
    "### Contact"
   ]
  },
  {
   "cell_type": "code",
   "execution_count": null,
   "id": "ac86f228",
   "metadata": {},
   "outputs": [],
   "source": [
    "X = data_std[contact]\n",
    "labels_GMM_Cont = produce_labels_GMM(X)"
   ]
  },
  {
   "cell_type": "code",
   "execution_count": null,
   "id": "6c19abcb",
   "metadata": {},
   "outputs": [],
   "source": [
    "GMM_Cont = multi_cross_val(labels_GMM_Cont)\n",
    "GMM_Cont_errors_pct = GMM_Cont.errors_pct\n",
    "\n",
    "plot_charts(GMM_Cont, 'GMM', 'Contact')"
   ]
  },
  {
   "cell_type": "markdown",
   "id": "8ae1e311",
   "metadata": {},
   "source": [
    "### Production Contact"
   ]
  },
  {
   "cell_type": "code",
   "execution_count": null,
   "id": "e3569a70",
   "metadata": {},
   "outputs": [],
   "source": [
    "X = data_std[production+contact]\n",
    "labels_GMM_ProdCont = produce_labels_GMM(X)"
   ]
  },
  {
   "cell_type": "code",
   "execution_count": null,
   "id": "69fadbce",
   "metadata": {},
   "outputs": [],
   "source": [
    "GMM_ProdCont = multi_cross_val(labels_GMM_ProdCont)\n",
    "GMM_ProdCont_errors_pct = GMM_ProdCont.errors_pct\n",
    "\n",
    "plot_charts(GMM_ProdCont, 'GMM', 'Production Contact')"
   ]
  },
  {
   "cell_type": "markdown",
   "id": "771d9553",
   "metadata": {},
   "source": [
    "### Production Contact Swing"
   ]
  },
  {
   "cell_type": "code",
   "execution_count": null,
   "id": "4b60131a",
   "metadata": {},
   "outputs": [],
   "source": [
    "X = data_std[production+contact+swing]\n",
    "labels_GMM_ProdContSwing = produce_labels_GMM(X)"
   ]
  },
  {
   "cell_type": "code",
   "execution_count": null,
   "id": "8d2b99cb",
   "metadata": {},
   "outputs": [],
   "source": [
    "GMM_ProdContSwing = multi_cross_val(labels_GMM_ProdContSwing)\n",
    "GMM_ProdContSwing_errors_pct = GMM_ProdContSwing.errors_pct\n",
    "\n",
    "plot_charts(GMM_ProdContSwing, 'GMM', 'Production Contact Swing')"
   ]
  },
  {
   "cell_type": "markdown",
   "id": "ad44d3f4",
   "metadata": {},
   "source": [
    "### Player Production Contact Swing"
   ]
  },
  {
   "cell_type": "code",
   "execution_count": null,
   "id": "8b9f14bd",
   "metadata": {},
   "outputs": [],
   "source": [
    "X = data_std[player+production+contact+swing]\n",
    "labels_GMM_PlayerProdContSwing = produce_labels_GMM(X)"
   ]
  },
  {
   "cell_type": "code",
   "execution_count": null,
   "id": "cbdc1fef",
   "metadata": {},
   "outputs": [],
   "source": [
    "GMM_PlayerProdContSwing = multi_cross_val(labels_GMM_PlayerProdContSwing)\n",
    "GMM_PlayerProdContSwing_errors_pct = GMM_PlayerProdContSwing.errors_pct\n",
    "\n",
    "plot_charts(GMM_PlayerProdContSwing, 'GMM', 'Player Production Contact Swing')"
   ]
  },
  {
   "cell_type": "markdown",
   "id": "f11e2325",
   "metadata": {},
   "source": [
    "### Production Player"
   ]
  },
  {
   "cell_type": "code",
   "execution_count": null,
   "id": "b318a30d",
   "metadata": {},
   "outputs": [],
   "source": [
    "X = data_std[player+production]\n",
    "labels_GMM_PlayerProd = produce_labels_GMM(X)"
   ]
  },
  {
   "cell_type": "code",
   "execution_count": null,
   "id": "2dbcd687",
   "metadata": {},
   "outputs": [],
   "source": [
    "GMM_PlayerProd = multi_cross_val(labels_GMM_PlayerProd)\n",
    "GMM_PlayerProd_errors_pct = GMM_PlayerProd.errors_pct\n",
    "\n",
    "plot_charts(GMM_PlayerProd, 'GMM', 'Production Player')"
   ]
  },
  {
   "cell_type": "markdown",
   "id": "a98fdcc7",
   "metadata": {},
   "source": [
    "### Player Pitch"
   ]
  },
  {
   "cell_type": "code",
   "execution_count": null,
   "id": "af2e576f",
   "metadata": {},
   "outputs": [],
   "source": [
    "X = data_std[player+pitch]\n",
    "labels_GMM_PlayerPitch = produce_labels_GMM(X)"
   ]
  },
  {
   "cell_type": "code",
   "execution_count": null,
   "id": "07ed5906",
   "metadata": {},
   "outputs": [],
   "source": [
    "GMM_PlayerPitch = multi_cross_val(labels_GMM_PlayerPitch)\n",
    "GMM_PlayerPitch_errors_pct = GMM_PlayerPitch.errors_pct\n",
    "\n",
    "plot_charts(GMM_PlayerPitch, 'GMM', 'Player Pitch')"
   ]
  },
  {
   "cell_type": "markdown",
   "id": "dd97533e",
   "metadata": {},
   "source": [
    "### Player Contact Pitch"
   ]
  },
  {
   "cell_type": "code",
   "execution_count": null,
   "id": "34de3714",
   "metadata": {},
   "outputs": [],
   "source": [
    "X = data_std[player+contact+pitch]\n",
    "labels_GMM_PlayerContPitch = produce_labels_GMM(X)"
   ]
  },
  {
   "cell_type": "code",
   "execution_count": null,
   "id": "8d4049f3",
   "metadata": {},
   "outputs": [],
   "source": [
    "GMM_PlayerContPitch = multi_cross_val(labels_GMM_PlayerContPitch)\n",
    "GMM_PlayerContPitch_errors_pct = GMM_PlayerContPitch.errors_pct\n",
    "\n",
    "plot_charts(GMM_PlayerContPitch, 'GMM', 'Player Contact Pitch')"
   ]
  },
  {
   "cell_type": "markdown",
   "id": "ed805ffd",
   "metadata": {},
   "source": [
    "### Player Production Pitch"
   ]
  },
  {
   "cell_type": "code",
   "execution_count": null,
   "id": "9bca2377",
   "metadata": {},
   "outputs": [],
   "source": [
    "X = data_std[player+production+pitch]\n",
    "labels_GMM_PlayerProdPitch = produce_labels_GMM(X)"
   ]
  },
  {
   "cell_type": "code",
   "execution_count": null,
   "id": "af8ed00d",
   "metadata": {},
   "outputs": [],
   "source": [
    "GMM_PlayerProdPitch = multi_cross_val(labels_GMM_PlayerProdPitch)\n",
    "GMM_PlayerProdPitch_errors_pct = GMM_PlayerProdPitch.errors_pct\n",
    "\n",
    "plot_charts(GMM_PlayerProdPitch, 'GMM', 'Player Production Pitch')"
   ]
  },
  {
   "cell_type": "markdown",
   "id": "19924c1b",
   "metadata": {},
   "source": [
    "### Player Swing Pitch"
   ]
  },
  {
   "cell_type": "code",
   "execution_count": null,
   "id": "4e19fef3",
   "metadata": {},
   "outputs": [],
   "source": [
    "X = data_std[player+swing+pitch]\n",
    "labels_GMM_PlayerSwingPitch = produce_labels_GMM(X)"
   ]
  },
  {
   "cell_type": "code",
   "execution_count": null,
   "id": "1fd72716",
   "metadata": {},
   "outputs": [],
   "source": [
    "GMM_PlayerSwingPitch = multi_cross_val(labels_GMM_PlayerSwingPitch)\n",
    "GMM_PlayerSwingPitch_errors_pct = GMM_PlayerSwingPitch.errors_pct\n",
    "\n",
    "plot_charts(GMM_PlayerSwingPitch, 'GMM', 'Player Swing Pitch')"
   ]
  },
  {
   "cell_type": "code",
   "execution_count": null,
   "id": "5c50057d",
   "metadata": {},
   "outputs": [],
   "source": [
    "# n_components = np.arange(1, 21)\n",
    "# models = [GaussianMixture(n, covariance_type='full', random_state=0).fit(X)\n",
    "#           for n in n_components]\n",
    "\n",
    "# plt.plot(n_components, [m.bic(X) for m in models], label='BIC')\n",
    "# plt.plot(n_components, [m.aic(X) for m in models], label='AIC')\n",
    "# plt.legend(loc='best')\n",
    "# plt.xlabel('n_components');"
   ]
  },
  {
   "cell_type": "markdown",
   "id": "40dfed28",
   "metadata": {},
   "source": [
    "# 3. Model Selection\n",
    "Based on training errors, the following 4 models were selected to make prediction on Validation and Train set:\n",
    "\n",
    "1. HC1/num of clusters: 3/Features:Player Production Pitch\n",
    "1. HC2/num of clusters: 2/Features: Player Pitch\n",
    "1. GMM1/num of clusters: 3/Features: Player Contact Pitch\n",
    "1. GMM2/num of clusters: 3/Features: Player Pitch"
   ]
  },
  {
   "cell_type": "code",
   "execution_count": null,
   "id": "97be8e9d",
   "metadata": {},
   "outputs": [],
   "source": [
    "# HC1 best training result:\n",
    "np.array(HC_PlayerProdPitch_errors_pct).min()"
   ]
  },
  {
   "cell_type": "code",
   "execution_count": null,
   "id": "f56b0f51",
   "metadata": {},
   "outputs": [],
   "source": [
    "# HC2 best training result:\n",
    "np.array(HC_PlayerPitch_errors_pct).min()"
   ]
  },
  {
   "cell_type": "code",
   "execution_count": null,
   "id": "6b785c8c",
   "metadata": {},
   "outputs": [],
   "source": [
    "# GMM1 best training result:\n",
    "np.array(GMM_PlayerContPitch_errors_pct).min()"
   ]
  },
  {
   "cell_type": "code",
   "execution_count": null,
   "id": "51964c4d",
   "metadata": {},
   "outputs": [],
   "source": [
    "# GMM2 best training result:\n",
    "np.array(GMM_PlayerPitch_errors_pct).min()"
   ]
  },
  {
   "cell_type": "markdown",
   "id": "1df32285",
   "metadata": {},
   "source": [
    "# 4. Prediction on Validation Set\n",
    "## HC1:"
   ]
  },
  {
   "cell_type": "code",
   "execution_count": null,
   "id": "329b3a09",
   "metadata": {},
   "outputs": [],
   "source": [
    "func.predict(train_df, val_df, cluster, pitchers_new, batters_new, labels_HC_PlayerProdPitch[3])\n",
    "print(f'RV True: {func.predict.RV_test_avg}')\n",
    "print(f'RV Pred: {func.predict.RV_pred_avg}')\n",
    "print(f'RV League: {func.predict.RV_league_avg}')\n",
    "print(f'RV Error Pct: {func.predict.error_pct}')\n",
    "print(f'RV League Error Pct: {func.predict.error_league_pct}')"
   ]
  },
  {
   "cell_type": "markdown",
   "id": "e8cd36f7",
   "metadata": {},
   "source": [
    "## HC2:"
   ]
  },
  {
   "cell_type": "code",
   "execution_count": null,
   "id": "f6162989",
   "metadata": {},
   "outputs": [],
   "source": [
    "func.predict(train_df, val_df, cluster, pitchers_new, batters_new, labels_HC_PlayerPitch[2])\n",
    "print(f'RV True: {func.predict.RV_test_avg}')\n",
    "print(f'RV Pred: {func.predict.RV_pred_avg}')\n",
    "print(f'RV League: {func.predict.RV_league_avg}')\n",
    "print(f'RV Error Pct: {func.predict.error_pct}')\n",
    "print(f'RV League Error Pct: {func.predict.error_league_pct}')"
   ]
  },
  {
   "cell_type": "markdown",
   "id": "60015513",
   "metadata": {},
   "source": [
    "## GMM1:"
   ]
  },
  {
   "cell_type": "code",
   "execution_count": null,
   "id": "f64605d4",
   "metadata": {},
   "outputs": [],
   "source": [
    "func.predict(train_df, val_df, cluster, pitchers_new, batters_new, labels_GMM_PlayerContPitch[3])\n",
    "print(f'RV True: {func.predict.RV_test_avg}')\n",
    "print(f'RV Pred: {func.predict.RV_pred_avg}')\n",
    "print(f'RV League: {func.predict.RV_league_avg}')\n",
    "print(f'RV Error Pct: {func.predict.error_pct}')\n",
    "print(f'RV League Error Pct: {func.predict.error_league_pct}')"
   ]
  },
  {
   "cell_type": "markdown",
   "id": "99852fe3",
   "metadata": {},
   "source": [
    "## GMM2:"
   ]
  },
  {
   "cell_type": "code",
   "execution_count": null,
   "id": "98a33488",
   "metadata": {},
   "outputs": [],
   "source": [
    "func.predict(train_df, val_df, cluster, pitchers_new, batters_new, labels_GMM_PlayerPitch[3])\n",
    "print(f'RV True: {func.predict.RV_test_avg}')\n",
    "print(f'RV Pred: {func.predict.RV_pred_avg}')\n",
    "print(f'RV League: {func.predict.RV_league_avg}')\n",
    "print(f'RV Error Pct: {func.predict.error_pct}')\n",
    "print(f'RV League Error Pct: {func.predict.error_league_pct}')"
   ]
  },
  {
   "cell_type": "code",
   "execution_count": null,
   "id": "41d8498a",
   "metadata": {},
   "outputs": [],
   "source": [
    "# func.predict(train_df, val_df, cluster, pitchers_new, batters_new, labels_KM_full[3])\n",
    "# print(f'RV True: {func.predict.RV_test_avg}')\n",
    "# print(f'RV Pred: {func.predict.RV_pred_avg}')\n",
    "# print(f'RV League: {func.predict.RV_league_avg}')\n",
    "# print(f'RV Error Pct: {func.predict.error_pct}')\n",
    "# print(f'RV League Error Pct: {func.predict.error_league_pct}')"
   ]
  },
  {
   "cell_type": "code",
   "execution_count": null,
   "id": "93e72f38",
   "metadata": {},
   "outputs": [],
   "source": [
    "# func.predict(train_df, val_df, cluster, pitchers_new, batters_new, labels_KM_ProdPlayer[4])\n",
    "# print(f'RV True: {func.predict.RV_test_avg}')\n",
    "# print(f'RV Pred: {func.predict.RV_pred_avg}')\n",
    "# print(f'RV League: {func.predict.RV_league_avg}')\n",
    "# print(f'RV Error Pct: {func.predict.error_pct}')\n",
    "# print(f'RV League Error Pct: {func.predict.error_league_pct}')"
   ]
  },
  {
   "cell_type": "markdown",
   "id": "929a4983",
   "metadata": {},
   "source": [
    "# 5. Test Set Prediction (Final)\n",
    "## HC1:"
   ]
  },
  {
   "cell_type": "code",
   "execution_count": null,
   "id": "29b31a45",
   "metadata": {},
   "outputs": [],
   "source": [
    "func.predict(train_full_df, test_df, cluster, pitchers_new, batters_new, labels_HC_PlayerProdPitch[3])\n",
    "print(f'RV True: {func.predict.RV_test_avg}')\n",
    "print(f'RV Pred: {func.predict.RV_pred_avg}')\n",
    "print(f'RV League: {func.predict.RV_league_avg}')\n",
    "print(f'RV Error Pct: {func.predict.error_pct}')\n",
    "print(f'RV League Error Pct: {func.predict.error_league_pct}')"
   ]
  },
  {
   "cell_type": "markdown",
   "id": "8d52e823",
   "metadata": {},
   "source": [
    "## HC2:"
   ]
  },
  {
   "cell_type": "code",
   "execution_count": null,
   "id": "695a1d62",
   "metadata": {},
   "outputs": [],
   "source": [
    "func.predict(train_full_df, test_df, cluster, pitchers_new, batters_new, labels_HC_PlayerPitch[2])\n",
    "print(f'RV True: {func.predict.RV_test_avg}')\n",
    "print(f'RV Pred: {func.predict.RV_pred_avg}')\n",
    "print(f'RV League: {func.predict.RV_league_avg}')\n",
    "print(f'RV Error Pct: {func.predict.error_pct}')\n",
    "print(f'RV League Error Pct: {func.predict.error_league_pct}')"
   ]
  },
  {
   "cell_type": "markdown",
   "id": "4c8391a4",
   "metadata": {},
   "source": [
    "## GMM1:"
   ]
  },
  {
   "cell_type": "code",
   "execution_count": null,
   "id": "b3b7021e",
   "metadata": {},
   "outputs": [],
   "source": [
    "func.predict(train_full_df, test_df, cluster, pitchers_new, batters_new, labels_GMM_PlayerContPitch[3])\n",
    "print(f'RV True: {func.predict.RV_test_avg}')\n",
    "print(f'RV Pred: {func.predict.RV_pred_avg}')\n",
    "print(f'RV League: {func.predict.RV_league_avg}')\n",
    "print(f'RV Error Pct: {func.predict.error_pct}')\n",
    "print(f'RV League Error Pct: {func.predict.error_league_pct}')"
   ]
  },
  {
   "cell_type": "markdown",
   "id": "08436d04",
   "metadata": {},
   "source": [
    "## GMM2:"
   ]
  },
  {
   "cell_type": "code",
   "execution_count": null,
   "id": "132f3f3e",
   "metadata": {},
   "outputs": [],
   "source": [
    "func.predict(train_full_df, test_df, cluster, pitchers_new, batters_new, labels_GMM_PlayerPitch[3])\n",
    "print(f'RV True: {func.predict.RV_test_avg}')\n",
    "print(f'RV Pred: {func.predict.RV_pred_avg}')\n",
    "print(f'RV League: {func.predict.RV_league_avg}')\n",
    "print(f'RV Error Pct: {func.predict.error_pct}')\n",
    "print(f'RV League Error Pct: {func.predict.error_league_pct}')"
   ]
  },
  {
   "cell_type": "code",
   "execution_count": null,
   "id": "562d96c0",
   "metadata": {},
   "outputs": [],
   "source": [
    "# func.predict(train_full_df, test_df, cluster, pitchers_new, batters_new, labels_KM_full[3])\n",
    "# print(f'RV True: {func.predict.RV_test_avg}')\n",
    "# print(f'RV Pred: {func.predict.RV_pred_avg}')\n",
    "# print(f'RV League: {func.predict.RV_league_avg}')\n",
    "# print(f'RV Error Pct: {func.predict.error_pct}')\n",
    "# print(f'RV League Error Pct: {func.predict.error_league_pct}')"
   ]
  },
  {
   "cell_type": "code",
   "execution_count": null,
   "id": "a6a1a78b",
   "metadata": {},
   "outputs": [],
   "source": [
    "# func.predict(train_full_df, test_df, cluster, pitchers_new, batters_new, labels_KM_ProdPlayer[4])\n",
    "# print(f'RV True: {func.predict.RV_test_avg}')\n",
    "# print(f'RV Pred: {func.predict.RV_pred_avg}')\n",
    "# print(f'RV League: {func.predict.RV_league_avg}')\n",
    "# print(f'RV Error Pct: {func.predict.error_pct}')\n",
    "# print(f'RV League Error Pct: {func.predict.error_league_pct}')"
   ]
  },
  {
   "cell_type": "code",
   "execution_count": null,
   "id": "e8a9f91b",
   "metadata": {},
   "outputs": [],
   "source": [
    "# func.predict(train_full_df, test_df, cluster, pitchers_new, batters_new, labels_KM_ProdPlayer[4])\n",
    "# print(f'RV True: {func.predict.RV_test_avg}')\n",
    "# print(f'RV Pred: {func.predict.RV_pred_avg}')\n",
    "# print(f'RV League: {func.predict.RV_league_avg}')\n",
    "# print(f'RV Error Pct: {func.predict.error_pct}')\n",
    "# print(f'RV League Error Pct: {func.predict.error_league_pct}')"
   ]
  },
  {
   "cell_type": "markdown",
   "id": "b5456517",
   "metadata": {},
   "source": [
    "# Export Final Model for EDA"
   ]
  },
  {
   "cell_type": "code",
   "execution_count": null,
   "id": "4b9c0349",
   "metadata": {},
   "outputs": [],
   "source": [
    "cluster = data[data.columns[:1]].copy()\n",
    "cluster['final_label'] = labels_GMM_PlayerContPitch[3]\n",
    "final_cluster = cluster.copy()"
   ]
  },
  {
   "cell_type": "code",
   "execution_count": null,
   "id": "f85b9693",
   "metadata": {},
   "outputs": [],
   "source": [
    "# final_cluster.to_csv('../data/final_cluster.csv')"
   ]
  },
  {
   "cell_type": "code",
   "execution_count": null,
   "id": "f3e90b33",
   "metadata": {},
   "outputs": [],
   "source": [
    "%%notify\n",
    "pass"
   ]
  }
 ],
 "metadata": {
  "kernelspec": {
   "display_name": "Python 3 (ipykernel)",
   "language": "python",
   "name": "python3"
  },
  "language_info": {
   "codemirror_mode": {
    "name": "ipython",
    "version": 3
   },
   "file_extension": ".py",
   "mimetype": "text/x-python",
   "name": "python",
   "nbconvert_exporter": "python",
   "pygments_lexer": "ipython3",
   "version": "3.9.7"
  }
 },
 "nbformat": 4,
 "nbformat_minor": 5
}
